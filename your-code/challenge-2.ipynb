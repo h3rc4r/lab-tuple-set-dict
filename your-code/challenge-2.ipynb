{
 "cells": [
  {
   "cell_type": "markdown",
   "metadata": {},
   "source": [
    "## Challenge 2: Sets\n",
    "\n",
    "There are a lot to learn about Python Sets and the information presented in the lesson is limited due to its length. To learn Python Sets in depth you are strongly encouraged to review the W3Schools tutorial on [Python Sets Examples and Methods](https://www.w3schools.com/python/python_sets.asp) before you work on this lab. Some difficult questions in this lab have their solutions in the W3Schools tutorial.\n",
    "\n",
    "#### First, import the Python `random` libary"
   ]
  },
  {
   "cell_type": "code",
   "execution_count": 30,
   "metadata": {},
   "outputs": [],
   "source": [
    "import random"
   ]
  },
  {
   "cell_type": "markdown",
   "metadata": {},
   "source": [
    "#### In the cell below, create a list named `sample_list_1` with 80 random values. \n",
    "\n",
    "Requirements:\n",
    "\n",
    "* Each value is an integer falling between 0 and 100.\n",
    "* Each value in the list is unique.\n",
    "\n",
    "Print `sample_list_1` to review its values\n",
    "\n",
    "*Hint: use `random.sample` ([reference](https://docs.python.org/3/library/random.html#random.sample)).*"
   ]
  },
  {
   "cell_type": "code",
   "execution_count": 31,
   "metadata": {},
   "outputs": [
    {
     "name": "stdout",
     "output_type": "stream",
     "text": [
      "[8, 94, 24, 16, 30, 66, 84, 11, 29, 67, 87, 91, 36, 28, 56, 92, 69, 43, 5, 59, 8, 21, 78, 10, 64, 69, 87, 58, 97, 26, 33, 46, 31, 35, 82, 88, 69, 2, 20, 46, 34, 93, 64, 73, 91, 88, 38, 87, 26, 75, 47, 86, 87, 92, 37, 81, 80, 55, 28, 55, 93, 13, 67, 81, 62, 80, 21, 42, 27, 91, 47, 97, 18, 80, 82, 96, 3, 42, 89, 34]\n"
     ]
    }
   ],
   "source": [
    "# Your code here\n",
    "sample_list_1=[]\n",
    "for i in range(80):\n",
    "    sample_list_1.append(random.randrange(101))\n",
    "print(sample_list_1)    "
   ]
  },
  {
   "cell_type": "markdown",
   "metadata": {},
   "source": [
    "#### Convert `sample_list_1` to a set called `set1`. Print the length of the set. Is its length still 80?"
   ]
  },
  {
   "cell_type": "code",
   "execution_count": 32,
   "metadata": {},
   "outputs": [
    {
     "name": "stdout",
     "output_type": "stream",
     "text": [
      "{2, 3, 5, 8, 10, 11, 13, 16, 18, 20, 21, 24, 26, 27, 28, 29, 30, 31, 33, 34, 35, 36, 37, 38, 42, 43, 46, 47, 55, 56, 58, 59, 62, 64, 66, 67, 69, 73, 75, 78, 80, 81, 82, 84, 86, 87, 88, 89, 91, 92, 93, 94, 96, 97}\n"
     ]
    }
   ],
   "source": [
    "# Your code here\n",
    "set1 = set()\n",
    "for i in sample_list_1:\n",
    "    set1.add(i)\n",
    "print(set1)"
   ]
  },
  {
   "cell_type": "markdown",
   "metadata": {},
   "source": [
    "#### Create another list named `sample_list_2` with 80 random values.\n",
    "\n",
    "Requirements:\n",
    "\n",
    "* Each value is an integer falling between 0 and 100.\n",
    "* The values in the list don't have to be unique.\n",
    "\n",
    "*Hint: Use a FOR loop.*"
   ]
  },
  {
   "cell_type": "code",
   "execution_count": 34,
   "metadata": {},
   "outputs": [
    {
     "name": "stdout",
     "output_type": "stream",
     "text": [
      "[91, 3, 21, 15, 80, 24, 81, 91, 24, 88, 45, 1, 78, 17, 98, 32, 25, 33, 39, 7, 73, 82, 61, 52, 21, 7, 1, 42, 84, 72, 8, 78, 69, 46, 67, 70, 60, 32, 63, 1, 30, 34, 62, 34, 80, 44, 57, 30, 10, 7, 87, 19, 28, 27, 83, 77, 26, 1, 15, 35, 5, 65, 48, 60, 75, 34, 9, 79, 37, 95, 48, 14, 19, 26, 77, 57, 13, 46, 0, 12]\n"
     ]
    }
   ],
   "source": [
    "# Your code here\n",
    "sample_list_2=[]\n",
    "for i in range(80):\n",
    "    sample_list_2.append(random.randrange(101))\n",
    "print(sample_list_2)"
   ]
  },
  {
   "cell_type": "markdown",
   "metadata": {},
   "source": [
    "#### Convert `sample_list_2` to a set called `set2`. Print the length of the set. Is its length still 80?"
   ]
  },
  {
   "cell_type": "code",
   "execution_count": 35,
   "metadata": {},
   "outputs": [
    {
     "name": "stdout",
     "output_type": "stream",
     "text": [
      "{0, 1, 3, 5, 7, 8, 9, 10, 12, 13, 14, 15, 17, 19, 21, 24, 25, 26, 27, 28, 30, 32, 33, 34, 35, 37, 39, 42, 44, 45, 46, 48, 52, 57, 60, 61, 62, 63, 65, 67, 69, 70, 72, 73, 75, 77, 78, 79, 80, 81, 82, 83, 84, 87, 88, 91, 95, 98}\n"
     ]
    }
   ],
   "source": [
    "# Your code here\n",
    "set2 = set()\n",
    "for i in sample_list_2:\n",
    "    set2.add(i)\n",
    "print(set2)"
   ]
  },
  {
   "cell_type": "markdown",
   "metadata": {},
   "source": [
    "#### Identify the elements present in `set1` but not in `set2`. Assign the elements to a new set named `set3`."
   ]
  },
  {
   "cell_type": "code",
   "execution_count": 43,
   "metadata": {},
   "outputs": [
    {
     "name": "stdout",
     "output_type": "stream",
     "text": [
      "{0, 1, 3, 5, 7, 8, 9, 10, 12, 13, 14, 15, 17, 19, 21, 24, 25, 26, 27, 28, 30, 32, 33, 34, 35, 37, 39, 42, 44, 45, 46, 48, 52, 57, 60, 61, 62, 63, 65, 67, 69, 70, 72, 73, 75, 77, 78, 79, 80, 81, 82, 83, 84, 87, 88, 91, 95, 98}\n"
     ]
    }
   ],
   "source": [
    "# Your code here\n",
    "set3 = set()\n",
    "for i in set1:\n",
    "    for j in set2:\n",
    "        if i!=j:\n",
    "            set3.add(j)\n",
    "print(set3)        "
   ]
  },
  {
   "cell_type": "markdown",
   "metadata": {},
   "source": [
    "#### Identify the elements present in `set2` but not in `set1`. Assign the elements to a new set named `set4`."
   ]
  },
  {
   "cell_type": "code",
   "execution_count": 44,
   "metadata": {},
   "outputs": [
    {
     "name": "stdout",
     "output_type": "stream",
     "text": [
      "{2, 3, 5, 8, 10, 11, 13, 16, 18, 20, 21, 24, 26, 27, 28, 29, 30, 31, 33, 34, 35, 36, 37, 38, 42, 43, 46, 47, 55, 56, 58, 59, 62, 64, 66, 67, 69, 73, 75, 78, 80, 81, 82, 84, 86, 87, 88, 89, 91, 92, 93, 94, 96, 97}\n"
     ]
    }
   ],
   "source": [
    "# Your code here\n",
    "set4 = set()\n",
    "for i in set2:\n",
    "    for j in set1:\n",
    "        if i!=j:\n",
    "            set4.add(j)\n",
    "print(set4)    "
   ]
  },
  {
   "cell_type": "markdown",
   "metadata": {},
   "source": [
    "#### Now Identify the elements shared between `set1` and `set2`. Assign the elements to a new set named `set5`."
   ]
  },
  {
   "cell_type": "code",
   "execution_count": 45,
   "metadata": {},
   "outputs": [
    {
     "name": "stdout",
     "output_type": "stream",
     "text": [
      "{3, 5, 8, 10, 13, 21, 24, 26, 27, 28, 30, 33, 34, 35, 37, 42, 46, 62, 67, 69, 73, 75, 78, 80, 81, 82, 84, 87, 88, 91}\n"
     ]
    }
   ],
   "source": [
    "# Your code here\n",
    "set5 = set()\n",
    "for i in set1:\n",
    "    for j in set2:\n",
    "        if i==j:\n",
    "            set5.add(j)\n",
    "print(set5)    "
   ]
  },
  {
   "cell_type": "markdown",
   "metadata": {},
   "source": [
    "#### What is the relationship among the following values:\n",
    "\n",
    "* len(set1)\n",
    "* len(set2)\n",
    "* len(set3)\n",
    "* len(set4)\n",
    "* len(set5)\n",
    "\n",
    "Use a math formular to represent that relationship. Test your formular with Python code."
   ]
  },
  {
   "cell_type": "code",
   "execution_count": null,
   "metadata": {},
   "outputs": [],
   "source": [
    "# Your code here\n"
   ]
  },
  {
   "cell_type": "markdown",
   "metadata": {},
   "source": [
    "#### Create an empty set called `set6`."
   ]
  },
  {
   "cell_type": "code",
   "execution_count": 46,
   "metadata": {},
   "outputs": [],
   "source": [
    "# Your code here\n",
    "set6 = set()"
   ]
  },
  {
   "cell_type": "markdown",
   "metadata": {},
   "source": [
    "#### Add `set3` and `set5` to `set6` using the Python Set `update` method."
   ]
  },
  {
   "cell_type": "code",
   "execution_count": 49,
   "metadata": {},
   "outputs": [
    {
     "name": "stdout",
     "output_type": "stream",
     "text": [
      "{0, 1, 3, 5, 7, 8, 9, 10, 12, 13, 14, 15, 17, 19, 21, 24, 25, 26, 27, 28, 30, 32, 33, 34, 35, 37, 39, 42, 44, 45, 46, 48, 52, 57, 60, 61, 62, 63, 65, 67, 69, 70, 72, 73, 75, 77, 78, 79, 80, 81, 82, 83, 84, 87, 88, 91, 95, 98}\n",
      "{3, 5, 8, 10, 13, 21, 24, 26, 27, 28, 30, 33, 34, 35, 37, 42, 46, 62, 67, 69, 73, 75, 78, 80, 81, 82, 84, 87, 88, 91}\n",
      "{0, 1, 3, 5, 7, 8, 9, 10, 12, 13, 14, 15, 17, 19, 21, 24, 25, 26, 27, 28, 30, 32, 33, 34, 35, 37, 39, 42, 44, 45, 46, 48, 52, 57, 60, 61, 62, 63, 65, 67, 69, 70, 72, 73, 75, 77, 78, 79, 80, 81, 82, 83, 84, 87, 88, 91, 95, 98}\n"
     ]
    }
   ],
   "source": [
    "# Your code here\n",
    "set6.update(set3,set5)\n",
    "print(set3)\n",
    "print(set5)\n",
    "print(set6)"
   ]
  },
  {
   "cell_type": "markdown",
   "metadata": {},
   "source": [
    "#### Check if `set1` and `set6` are equal."
   ]
  },
  {
   "cell_type": "code",
   "execution_count": 52,
   "metadata": {},
   "outputs": [
    {
     "name": "stdout",
     "output_type": "stream",
     "text": [
      "no son iguales\n"
     ]
    }
   ],
   "source": [
    "# Your code here\n",
    "a=0\n",
    "for i in set1:\n",
    "    for j in set6:\n",
    "        if i==j:\n",
    "            a+=1\n",
    "if a>0:            \n",
    "    print(\"no son iguales\") "
   ]
  },
  {
   "cell_type": "markdown",
   "metadata": {},
   "source": [
    "#### Check if `set1` contains `set2` using the Python Set `issubset` method. Then check if `set1` contains `set3`.*"
   ]
  },
  {
   "cell_type": "code",
   "execution_count": 54,
   "metadata": {},
   "outputs": [
    {
     "name": "stdout",
     "output_type": "stream",
     "text": [
      "False\n",
      "False\n"
     ]
    }
   ],
   "source": [
    "# Your code here\n",
    "z = set1.issubset(set2)\n",
    "w = set1.issubset(set3)\n",
    "print(z)\n",
    "print(w)"
   ]
  },
  {
   "cell_type": "markdown",
   "metadata": {},
   "source": [
    "#### Using the Python Set `union` method, aggregate `set3`, `set4`, and `set5`. Then aggregate `set1` and `set2`. \n",
    "\n",
    "#### Check if the aggregated values are equal."
   ]
  },
  {
   "cell_type": "code",
   "execution_count": 60,
   "metadata": {},
   "outputs": [
    {
     "name": "stdout",
     "output_type": "stream",
     "text": [
      "{0, 1, 2, 3, 5, 7, 8, 9, 10, 11, 12, 13, 14, 15, 16, 17, 18, 19, 20, 21, 24, 25, 26, 27, 28, 29, 30, 31, 32, 33, 34, 35, 36, 37, 38, 39, 42, 43, 44, 45, 46, 47, 48, 52, 55, 56, 57, 58, 59, 60, 61, 62, 63, 64, 65, 66, 67, 69, 70, 72, 73, 75, 77, 78, 79, 80, 81, 82, 83, 84, 86, 87, 88, 89, 91, 92, 93, 94, 95, 96, 97, 98}\n"
     ]
    }
   ],
   "source": [
    "# Your code here\n",
    "set7 =set3.union(set4,set5)\n",
    "set7.union(set1,set2)\n",
    "print(set7)"
   ]
  },
  {
   "cell_type": "markdown",
   "metadata": {},
   "source": [
    "#### Using the `pop` method, remove the first element from `set1`."
   ]
  },
  {
   "cell_type": "code",
   "execution_count": null,
   "metadata": {},
   "outputs": [],
   "source": [
    "# Your code here\n",
    "con pop toma un elemento random "
   ]
  },
  {
   "cell_type": "markdown",
   "metadata": {},
   "source": [
    "#### Remove every element in the following list from `set1` if they are present in the set. Print the remaining elements.\n",
    "\n",
    "```\n",
    "list_to_remove = [1, 9, 11, 19, 21, 29, 31, 39, 41, 49, 51, 59, 61, 69, 71, 79, 81, 89, 91, 99]\n",
    "```"
   ]
  },
  {
   "cell_type": "code",
   "execution_count": 87,
   "metadata": {},
   "outputs": [
    {
     "name": "stdout",
     "output_type": "stream",
     "text": [
      "{2, 3, 5, 8, 10, 13, 16, 18, 20, 24, 26, 27, 28, 30, 33, 34, 35, 36, 37, 38, 42, 43, 46, 47, 55, 56, 58, 62, 64, 66, 67, 73, 75, 78, 80, 82, 84, 86, 87, 88, 92, 93, 94, 96, 97}\n"
     ]
    }
   ],
   "source": [
    "# Your code here\n",
    "list_to_remove = [1, 9, 11, 19, 21, 29, 31, 39, 41, 49, 51, 59, 61, 69, 71, 79, 81, 89, 91, 99]\n",
    "set1 = set1.difference(list_to_remove)\n",
    "print(set1)"
   ]
  },
  {
   "cell_type": "code",
   "execution_count": null,
   "metadata": {},
   "outputs": [],
   "source": []
  }
 ],
 "metadata": {
  "kernelspec": {
   "display_name": "Python 3",
   "language": "python",
   "name": "python3"
  },
  "language_info": {
   "codemirror_mode": {
    "name": "ipython",
    "version": 3
   },
   "file_extension": ".py",
   "mimetype": "text/x-python",
   "name": "python",
   "nbconvert_exporter": "python",
   "pygments_lexer": "ipython3",
   "version": "3.7.3"
  }
 },
 "nbformat": 4,
 "nbformat_minor": 2
}
